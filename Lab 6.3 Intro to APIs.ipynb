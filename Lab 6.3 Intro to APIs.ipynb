{
 "cells": [
  {
   "cell_type": "code",
   "execution_count": 28,
   "id": "bdbd1e86",
   "metadata": {},
   "outputs": [],
   "source": [
    "from bs4 import BeautifulSoup\n",
    "import requests\n",
    "import pandas as pd\n",
    "import random"
   ]
  },
  {
   "cell_type": "code",
   "execution_count": 5,
   "id": "d6c9ed75",
   "metadata": {},
   "outputs": [],
   "source": [
    "#chart-position-2 > div.chart-content.col-xs-12.col-sm-8 > p"
   ]
  },
  {
   "cell_type": "code",
   "execution_count": 6,
   "id": "e87366f9",
   "metadata": {},
   "outputs": [],
   "source": [
    "# 2. find url and store it in a variable\n",
    "url = \"http://www.popvortex.com/music/netherlands/top-songs.php\""
   ]
  },
  {
   "cell_type": "code",
   "execution_count": 7,
   "id": "20cff1aa",
   "metadata": {},
   "outputs": [
    {
     "data": {
      "text/plain": [
       "200"
      ]
     },
     "execution_count": 7,
     "metadata": {},
     "output_type": "execute_result"
    }
   ],
   "source": [
    "# 3. download html with a get request\n",
    "response = requests.get(url)\n",
    "response.status_code # 200 status code means OK!"
   ]
  },
  {
   "cell_type": "code",
   "execution_count": 8,
   "id": "90c0e7f7",
   "metadata": {},
   "outputs": [],
   "source": [
    "# 4.1. parse html (create the 'soup')\n",
    "soup = BeautifulSoup(response.content, \"html.parser\")"
   ]
  },
  {
   "cell_type": "code",
   "execution_count": 9,
   "id": "a698fbf9",
   "metadata": {},
   "outputs": [],
   "source": [
    "#soup"
   ]
  },
  {
   "cell_type": "code",
   "execution_count": 10,
   "id": "30171890",
   "metadata": {},
   "outputs": [
    {
     "data": {
      "text/plain": [
       "[<p class=\"title-artist\"><cite class=\"title\">Easy On Me</cite><em class=\"artist\">Adele</em></p>]"
      ]
     },
     "execution_count": 10,
     "metadata": {},
     "output_type": "execute_result"
    }
   ],
   "source": [
    "# 5. retrieve/extract the desired info (here, you'll paste the \"Selector\" you copied before to get the element that belongs to the top movie)\n",
    "soup.select(\"#chart-position-2 > div.chart-content.col-xs-12.col-sm-8 > p\")\n",
    "#chart-position-2 > div.chart-content.col-xs-12.col-sm-8 > p"
   ]
  },
  {
   "cell_type": "code",
   "execution_count": null,
   "id": "7dcbb5e7",
   "metadata": {},
   "outputs": [],
   "source": []
  },
  {
   "cell_type": "code",
   "execution_count": null,
   "id": "a963b440",
   "metadata": {},
   "outputs": [],
   "source": []
  },
  {
   "cell_type": "code",
   "execution_count": 167,
   "id": "2568ce05",
   "metadata": {},
   "outputs": [],
   "source": [
    "#initialize empty lists\n",
    "title = []\n",
    "artist = []\n",
    "\n",
    "\n",
    "# define the number of iterations of our for loop\n",
    "# by checking how many elements are in the retrieved result set\n",
    "# (this is equivalent but more robust than just explicitly defining 250 iterations)\n",
    "num_iter = len(soup.select(\"cite.title\"))\n",
    "\n",
    "# iterate through the result set and retrive all the data\n",
    "for i in range(num_iter):\n",
    "    title.append(soup.select(\"cite.title\")[i].get_text())\n",
    "    artist.append(soup.select(\"em.artist\")[i].get_text())\n",
    "    \n",
    "\n",
    "#print(title)\n",
    "#print(artist)\n",
    "\n",
    "# each list becomes a column\n",
    "songs = pd.DataFrame({\"title\":title,\n",
    "                       \"artist\":artist\n",
    "                      })"
   ]
  },
  {
   "cell_type": "code",
   "execution_count": 12,
   "id": "5f8e7e24",
   "metadata": {},
   "outputs": [
    {
     "data": {
      "text/html": [
       "<div>\n",
       "<style scoped>\n",
       "    .dataframe tbody tr th:only-of-type {\n",
       "        vertical-align: middle;\n",
       "    }\n",
       "\n",
       "    .dataframe tbody tr th {\n",
       "        vertical-align: top;\n",
       "    }\n",
       "\n",
       "    .dataframe thead th {\n",
       "        text-align: right;\n",
       "    }\n",
       "</style>\n",
       "<table border=\"1\" class=\"dataframe\">\n",
       "  <thead>\n",
       "    <tr style=\"text-align: right;\">\n",
       "      <th></th>\n",
       "      <th>title</th>\n",
       "      <th>artist</th>\n",
       "    </tr>\n",
       "  </thead>\n",
       "  <tbody>\n",
       "    <tr>\n",
       "      <th>0</th>\n",
       "      <td>Cold Heart (PNAU Remix)</td>\n",
       "      <td>Elton John &amp; Dua Lipa</td>\n",
       "    </tr>\n",
       "    <tr>\n",
       "      <th>1</th>\n",
       "      <td>Easy On Me</td>\n",
       "      <td>Adele</td>\n",
       "    </tr>\n",
       "    <tr>\n",
       "      <th>2</th>\n",
       "      <td>Schiddi Widdi Witt</td>\n",
       "      <td>Gino Graus</td>\n",
       "    </tr>\n",
       "    <tr>\n",
       "      <th>3</th>\n",
       "      <td>Do It To It (feat. Cherish)</td>\n",
       "      <td>Acraze</td>\n",
       "    </tr>\n",
       "    <tr>\n",
       "      <th>4</th>\n",
       "      <td>Ons Moeder Zeej Nog</td>\n",
       "      <td>Jan Biggel</td>\n",
       "    </tr>\n",
       "  </tbody>\n",
       "</table>\n",
       "</div>"
      ],
      "text/plain": [
       "                         title                 artist\n",
       "0      Cold Heart (PNAU Remix)  Elton John & Dua Lipa\n",
       "1                   Easy On Me                  Adele\n",
       "2           Schiddi Widdi Witt             Gino Graus\n",
       "3  Do It To It (feat. Cherish)                 Acraze\n",
       "4          Ons Moeder Zeej Nog             Jan Biggel"
      ]
     },
     "execution_count": 12,
     "metadata": {},
     "output_type": "execute_result"
    }
   ],
   "source": [
    "songs.head()"
   ]
  },
  {
   "cell_type": "code",
   "execution_count": null,
   "id": "b284aff0",
   "metadata": {},
   "outputs": [],
   "source": []
  },
  {
   "cell_type": "code",
   "execution_count": null,
   "id": "9e1ddf45",
   "metadata": {},
   "outputs": [],
   "source": [
    "#Music Recommender"
   ]
  },
  {
   "cell_type": "code",
   "execution_count": 47,
   "id": "e584ab04",
   "metadata": {},
   "outputs": [
    {
     "name": "stdout",
     "output_type": "stream",
     "text": [
      "enter song: Easy On Me\n",
      "                   title            artist\n",
      "1  your song: Easy On Me  your song: Adele\n"
     ]
    }
   ],
   "source": [
    "search= str(input('enter song: '))\n",
    "title=songs['title'].str.contains(search).any()\n",
    "if (title==True):\n",
    "    print('your song: ' + songs[songs['title'].str.contains(search)])\n",
    "\n",
    "elif (title==False):\n",
    "    print('We did not find your song but heres our recommendation: ' + songs['title'].sample())"
   ]
  },
  {
   "cell_type": "code",
   "execution_count": 68,
   "id": "23805ec9",
   "metadata": {},
   "outputs": [],
   "source": [
    "import pandas as pd\n",
    "import requests\n",
    "import json\n"
   ]
  },
  {
   "cell_type": "code",
   "execution_count": 109,
   "id": "9c071c29",
   "metadata": {},
   "outputs": [],
   "source": [
    "#1"
   ]
  },
  {
   "cell_type": "code",
   "execution_count": 110,
   "id": "0cbaff9a",
   "metadata": {},
   "outputs": [],
   "source": [
    "\n",
    "res1 = requests.get('https://axoltlapi.herokuapp.com/')"
   ]
  },
  {
   "cell_type": "code",
   "execution_count": 111,
   "id": "0f33be32",
   "metadata": {},
   "outputs": [
    {
     "data": {
      "text/plain": [
       "requests.models.Response"
      ]
     },
     "execution_count": 111,
     "metadata": {},
     "output_type": "execute_result"
    }
   ],
   "source": [
    "type(res1)"
   ]
  },
  {
   "cell_type": "code",
   "execution_count": 112,
   "id": "c00dec28",
   "metadata": {},
   "outputs": [
    {
     "data": {
      "text/plain": [
       "{'url': 'https://i.gyazo.com/83993e5c5c188c2cb19002978cbdcffc.png',\n",
       " 'facts': '',\n",
       " 'pics_repo': 'https://github.com/AxolotlAPI/data',\n",
       " 'api_repo': 'https://github.com/AxolotlAPI/axolotl.py-api'}"
      ]
     },
     "execution_count": 112,
     "metadata": {},
     "output_type": "execute_result"
    }
   ],
   "source": [
    "data1 = res1.json()\n",
    "data1"
   ]
  },
  {
   "cell_type": "code",
   "execution_count": 113,
   "id": "b3071136",
   "metadata": {},
   "outputs": [],
   "source": [
    "#2"
   ]
  },
  {
   "cell_type": "code",
   "execution_count": 114,
   "id": "19c670e3",
   "metadata": {},
   "outputs": [],
   "source": [
    "res = requests.get('https://dog-facts-api.herokuapp.com/api/v1/resources/dogs/all')"
   ]
  },
  {
   "cell_type": "code",
   "execution_count": 115,
   "id": "08243e4d",
   "metadata": {},
   "outputs": [
    {
     "data": {
      "text/plain": [
       "requests.models.Response"
      ]
     },
     "execution_count": 115,
     "metadata": {},
     "output_type": "execute_result"
    }
   ],
   "source": [
    "type(res)"
   ]
  },
  {
   "cell_type": "code",
   "execution_count": 168,
   "id": "3db26796",
   "metadata": {},
   "outputs": [],
   "source": [
    "data = res.json()\n",
    "#data"
   ]
  },
  {
   "cell_type": "code",
   "execution_count": 117,
   "id": "e167f0e0",
   "metadata": {},
   "outputs": [
    {
     "data": {
      "text/html": [
       "<div>\n",
       "<style scoped>\n",
       "    .dataframe tbody tr th:only-of-type {\n",
       "        vertical-align: middle;\n",
       "    }\n",
       "\n",
       "    .dataframe tbody tr th {\n",
       "        vertical-align: top;\n",
       "    }\n",
       "\n",
       "    .dataframe thead th {\n",
       "        text-align: right;\n",
       "    }\n",
       "</style>\n",
       "<table border=\"1\" class=\"dataframe\">\n",
       "  <thead>\n",
       "    <tr style=\"text-align: right;\">\n",
       "      <th></th>\n",
       "      <th>fact</th>\n",
       "    </tr>\n",
       "  </thead>\n",
       "  <tbody>\n",
       "    <tr>\n",
       "      <th>0</th>\n",
       "      <td>All dogs can be traced back 40 million years a...</td>\n",
       "    </tr>\n",
       "    <tr>\n",
       "      <th>1</th>\n",
       "      <td>Ancient Egyptians revered their dogs. When a p...</td>\n",
       "    </tr>\n",
       "    <tr>\n",
       "      <th>2</th>\n",
       "      <td>Small quantities of grapes and raisins can cau...</td>\n",
       "    </tr>\n",
       "    <tr>\n",
       "      <th>3</th>\n",
       "      <td>Apple and pear seeds contain arsenic, which ma...</td>\n",
       "    </tr>\n",
       "    <tr>\n",
       "      <th>4</th>\n",
       "      <td>Rock star Ozzy Osborne saved his wife Sharon’s...</td>\n",
       "    </tr>\n",
       "    <tr>\n",
       "      <th>...</th>\n",
       "      <td>...</td>\n",
       "    </tr>\n",
       "    <tr>\n",
       "      <th>430</th>\n",
       "      <td>Dogs can discriminate the emotional expression...</td>\n",
       "    </tr>\n",
       "    <tr>\n",
       "      <th>431</th>\n",
       "      <td>The largest breed of dog is the Irish Wolfhound.</td>\n",
       "    </tr>\n",
       "    <tr>\n",
       "      <th>432</th>\n",
       "      <td>Dogs do not have an appendix. Why haven’t huma...</td>\n",
       "    </tr>\n",
       "    <tr>\n",
       "      <th>433</th>\n",
       "      <td>Dogs are all direct descendants of wolves.</td>\n",
       "    </tr>\n",
       "    <tr>\n",
       "      <th>434</th>\n",
       "      <td>A dog’s heart beats up to 120 times per minute...</td>\n",
       "    </tr>\n",
       "  </tbody>\n",
       "</table>\n",
       "<p>435 rows × 1 columns</p>\n",
       "</div>"
      ],
      "text/plain": [
       "                                                  fact\n",
       "0    All dogs can be traced back 40 million years a...\n",
       "1    Ancient Egyptians revered their dogs. When a p...\n",
       "2    Small quantities of grapes and raisins can cau...\n",
       "3    Apple and pear seeds contain arsenic, which ma...\n",
       "4    Rock star Ozzy Osborne saved his wife Sharon’s...\n",
       "..                                                 ...\n",
       "430  Dogs can discriminate the emotional expression...\n",
       "431   The largest breed of dog is the Irish Wolfhound.\n",
       "432  Dogs do not have an appendix. Why haven’t huma...\n",
       "433         Dogs are all direct descendants of wolves.\n",
       "434  A dog’s heart beats up to 120 times per minute...\n",
       "\n",
       "[435 rows x 1 columns]"
      ]
     },
     "execution_count": 117,
     "metadata": {},
     "output_type": "execute_result"
    }
   ],
   "source": [
    "df = pd.DataFrame(data)\n",
    "df"
   ]
  },
  {
   "cell_type": "code",
   "execution_count": 118,
   "id": "d2e2f3ed",
   "metadata": {},
   "outputs": [
    {
     "name": "stdout",
     "output_type": "stream",
     "text": [
      "Ancient Egyptians revered their dogs. When a pet dog would die, the owners shaved off their eyebrows, smeared mud in their hair, and mourned aloud for days.\n"
     ]
    }
   ],
   "source": [
    "flattened_data = pd.json_normalize(data)\n",
    "flattened_data\n",
    "print(flattened_data['fact'][1])"
   ]
  },
  {
   "cell_type": "code",
   "execution_count": 119,
   "id": "6a7421b5",
   "metadata": {},
   "outputs": [],
   "source": [
    "import random\n",
    "\n",
    "def random_catfact(data):\n",
    "    print(data['text'][random.randint(0, len(data)-1)])"
   ]
  },
  {
   "cell_type": "code",
   "execution_count": 120,
   "id": "f2fd0a62",
   "metadata": {},
   "outputs": [
    {
     "data": {
      "text/html": [
       "<div>\n",
       "<style scoped>\n",
       "    .dataframe tbody tr th:only-of-type {\n",
       "        vertical-align: middle;\n",
       "    }\n",
       "\n",
       "    .dataframe tbody tr th {\n",
       "        vertical-align: top;\n",
       "    }\n",
       "\n",
       "    .dataframe thead th {\n",
       "        text-align: right;\n",
       "    }\n",
       "</style>\n",
       "<table border=\"1\" class=\"dataframe\">\n",
       "  <thead>\n",
       "    <tr style=\"text-align: right;\">\n",
       "      <th></th>\n",
       "      <th>fact</th>\n",
       "    </tr>\n",
       "  </thead>\n",
       "  <tbody>\n",
       "    <tr>\n",
       "      <th>0</th>\n",
       "      <td>All dogs can be traced back 40 million years a...</td>\n",
       "    </tr>\n",
       "    <tr>\n",
       "      <th>1</th>\n",
       "      <td>Ancient Egyptians revered their dogs. When a p...</td>\n",
       "    </tr>\n",
       "    <tr>\n",
       "      <th>2</th>\n",
       "      <td>Small quantities of grapes and raisins can cau...</td>\n",
       "    </tr>\n",
       "    <tr>\n",
       "      <th>3</th>\n",
       "      <td>Apple and pear seeds contain arsenic, which ma...</td>\n",
       "    </tr>\n",
       "    <tr>\n",
       "      <th>4</th>\n",
       "      <td>Rock star Ozzy Osborne saved his wife Sharon’s...</td>\n",
       "    </tr>\n",
       "  </tbody>\n",
       "</table>\n",
       "</div>"
      ],
      "text/plain": [
       "                                                fact\n",
       "0  All dogs can be traced back 40 million years a...\n",
       "1  Ancient Egyptians revered their dogs. When a p...\n",
       "2  Small quantities of grapes and raisins can cau...\n",
       "3  Apple and pear seeds contain arsenic, which ma...\n",
       "4  Rock star Ozzy Osborne saved his wife Sharon’s..."
      ]
     },
     "execution_count": 120,
     "metadata": {},
     "output_type": "execute_result"
    }
   ],
   "source": [
    "response = requests.get('https://dog-facts-api.herokuapp.com/api/v1/resources/dogs/all')\n",
    "\n",
    "data = pd.DataFrame(response.json())\n",
    "data.head()\n",
    "#data.shape"
   ]
  },
  {
   "cell_type": "code",
   "execution_count": null,
   "id": "b6348a35",
   "metadata": {},
   "outputs": [],
   "source": [
    "#3"
   ]
  },
  {
   "cell_type": "code",
   "execution_count": 145,
   "id": "4f53a7dc",
   "metadata": {},
   "outputs": [],
   "source": [
    "\n",
    "res2 = requests.get('https://anapioficeandfire.com/api/characters/583')"
   ]
  },
  {
   "cell_type": "code",
   "execution_count": 146,
   "id": "d4a5a819",
   "metadata": {},
   "outputs": [
    {
     "data": {
      "text/plain": [
       "requests.models.Response"
      ]
     },
     "execution_count": 146,
     "metadata": {},
     "output_type": "execute_result"
    }
   ],
   "source": [
    "type(res2)"
   ]
  },
  {
   "cell_type": "code",
   "execution_count": 160,
   "id": "9f51fa66",
   "metadata": {},
   "outputs": [],
   "source": [
    "data2 = res2.json()\n",
    "#data2"
   ]
  },
  {
   "cell_type": "code",
   "execution_count": 154,
   "id": "d68641aa",
   "metadata": {},
   "outputs": [
    {
     "name": "stderr",
     "output_type": "stream",
     "text": [
      "<ipython-input-154-14c44ba216e6>:4: FutureWarning: pandas.io.json.json_normalize is deprecated, use pandas.json_normalize instead\n",
      "  flattened_data = json_normalize(results)\n"
     ]
    },
    {
     "data": {
      "text/html": [
       "<div>\n",
       "<style scoped>\n",
       "    .dataframe tbody tr th:only-of-type {\n",
       "        vertical-align: middle;\n",
       "    }\n",
       "\n",
       "    .dataframe tbody tr th {\n",
       "        vertical-align: top;\n",
       "    }\n",
       "\n",
       "    .dataframe thead th {\n",
       "        text-align: right;\n",
       "    }\n",
       "</style>\n",
       "<table border=\"1\" class=\"dataframe\">\n",
       "  <thead>\n",
       "    <tr style=\"text-align: right;\">\n",
       "      <th></th>\n",
       "      <th>url</th>\n",
       "      <th>name</th>\n",
       "      <th>gender</th>\n",
       "      <th>culture</th>\n",
       "      <th>born</th>\n",
       "      <th>died</th>\n",
       "      <th>titles</th>\n",
       "      <th>aliases</th>\n",
       "      <th>father</th>\n",
       "      <th>mother</th>\n",
       "      <th>spouse</th>\n",
       "      <th>allegiances</th>\n",
       "      <th>books</th>\n",
       "      <th>povBooks</th>\n",
       "      <th>tvSeries</th>\n",
       "      <th>playedBy</th>\n",
       "    </tr>\n",
       "  </thead>\n",
       "  <tbody>\n",
       "    <tr>\n",
       "      <th>0</th>\n",
       "      <td>https://anapioficeandfire.com/api/characters/583</td>\n",
       "      <td>Jon Snow</td>\n",
       "      <td>Male</td>\n",
       "      <td>Northmen</td>\n",
       "      <td>In 283 AC</td>\n",
       "      <td></td>\n",
       "      <td>[Lord Commander of the Night's Watch]</td>\n",
       "      <td>[Lord Snow, Ned Stark's Bastard, The Snow of W...</td>\n",
       "      <td></td>\n",
       "      <td></td>\n",
       "      <td></td>\n",
       "      <td>[https://anapioficeandfire.com/api/houses/362]</td>\n",
       "      <td>[https://anapioficeandfire.com/api/books/5]</td>\n",
       "      <td>[https://anapioficeandfire.com/api/books/1, ht...</td>\n",
       "      <td>[Season 1, Season 2, Season 3, Season 4, Seaso...</td>\n",
       "      <td>[Kit Harington]</td>\n",
       "    </tr>\n",
       "  </tbody>\n",
       "</table>\n",
       "</div>"
      ],
      "text/plain": [
       "                                                url      name gender  \\\n",
       "0  https://anapioficeandfire.com/api/characters/583  Jon Snow   Male   \n",
       "\n",
       "    culture       born died                                 titles  \\\n",
       "0  Northmen  In 283 AC       [Lord Commander of the Night's Watch]   \n",
       "\n",
       "                                             aliases father mother spouse  \\\n",
       "0  [Lord Snow, Ned Stark's Bastard, The Snow of W...                        \n",
       "\n",
       "                                      allegiances  \\\n",
       "0  [https://anapioficeandfire.com/api/houses/362]   \n",
       "\n",
       "                                         books  \\\n",
       "0  [https://anapioficeandfire.com/api/books/5]   \n",
       "\n",
       "                                            povBooks  \\\n",
       "0  [https://anapioficeandfire.com/api/books/1, ht...   \n",
       "\n",
       "                                            tvSeries         playedBy  \n",
       "0  [Season 1, Season 2, Season 3, Season 4, Seaso...  [Kit Harington]  "
      ]
     },
     "execution_count": 154,
     "metadata": {},
     "output_type": "execute_result"
    }
   ],
   "source": [
    "from pandas.io.json import json_normalize\n",
    "\n",
    "results = res2.json()\n",
    "flattened_data = json_normalize(results)\n",
    "\n",
    "flattened_data"
   ]
  },
  {
   "cell_type": "code",
   "execution_count": 162,
   "id": "1f94cfbd",
   "metadata": {},
   "outputs": [
    {
     "name": "stdout",
     "output_type": "stream",
     "text": [
      "Jon Snow\n"
     ]
    }
   ],
   "source": [
    "flattened_data = pd.json_normalize(data2)\n",
    "flattened_data\n",
    "print(flattened_data['name'][0])"
   ]
  },
  {
   "cell_type": "code",
   "execution_count": 158,
   "id": "3a7efcce",
   "metadata": {},
   "outputs": [],
   "source": [
    "#df2 = pd.DataFrame(data2)\n",
    "#df2"
   ]
  },
  {
   "cell_type": "code",
   "execution_count": null,
   "id": "e4591bfa",
   "metadata": {},
   "outputs": [],
   "source": []
  },
  {
   "cell_type": "code",
   "execution_count": null,
   "id": "25c672b0",
   "metadata": {},
   "outputs": [],
   "source": [
    "#4"
   ]
  },
  {
   "cell_type": "code",
   "execution_count": 149,
   "id": "5ee53d5b",
   "metadata": {},
   "outputs": [],
   "source": [
    "\n",
    "res21 = requests.get('https://api.corrently.io/core/gsi?key=[APIKEY]')"
   ]
  },
  {
   "cell_type": "code",
   "execution_count": 150,
   "id": "8f92a412",
   "metadata": {},
   "outputs": [
    {
     "data": {
      "text/plain": [
       "requests.models.Response"
      ]
     },
     "execution_count": 150,
     "metadata": {},
     "output_type": "execute_result"
    }
   ],
   "source": [
    "type(res21)"
   ]
  },
  {
   "cell_type": "code",
   "execution_count": 159,
   "id": "5b69b41e",
   "metadata": {},
   "outputs": [],
   "source": [
    "data21 = res21.json()\n",
    "#data21"
   ]
  },
  {
   "cell_type": "code",
   "execution_count": 157,
   "id": "de95b8c6",
   "metadata": {},
   "outputs": [
    {
     "name": "stderr",
     "output_type": "stream",
     "text": [
      "<ipython-input-157-e9bf902d1a18>:4: FutureWarning: pandas.io.json.json_normalize is deprecated, use pandas.json_normalize instead\n",
      "  flattened_data = json_normalize(results)\n"
     ]
    },
    {
     "data": {
      "text/html": [
       "<div>\n",
       "<style scoped>\n",
       "    .dataframe tbody tr th:only-of-type {\n",
       "        vertical-align: middle;\n",
       "    }\n",
       "\n",
       "    .dataframe tbody tr th {\n",
       "        vertical-align: top;\n",
       "    }\n",
       "\n",
       "    .dataframe thead th {\n",
       "        text-align: right;\n",
       "    }\n",
       "</style>\n",
       "<table border=\"1\" class=\"dataframe\">\n",
       "  <thead>\n",
       "    <tr style=\"text-align: right;\">\n",
       "      <th></th>\n",
       "      <th>forecast</th>\n",
       "      <th>location.zip</th>\n",
       "      <th>location.city</th>\n",
       "      <th>matrix.h_0.timeStamp</th>\n",
       "      <th>matrix.h_0.avg_1</th>\n",
       "      <th>matrix.h_0.avg_2</th>\n",
       "      <th>matrix.h_0.avg_3</th>\n",
       "      <th>matrix.h_0.avg_4</th>\n",
       "      <th>matrix.h_0.avg_5</th>\n",
       "      <th>matrix.h_0.avg_6</th>\n",
       "      <th>...</th>\n",
       "      <th>matrix.h_39.avg_10</th>\n",
       "      <th>matrix.h_39.avg_9</th>\n",
       "      <th>matrix.h_39.avg_8</th>\n",
       "      <th>matrix.h_39.avg_7</th>\n",
       "      <th>matrix.h_39.avg_6</th>\n",
       "      <th>matrix.h_39.avg_5</th>\n",
       "      <th>matrix.h_39.avg_4</th>\n",
       "      <th>matrix.h_39.avg_3</th>\n",
       "      <th>matrix.h_39.avg_2</th>\n",
       "      <th>matrix.h_39.avg_1</th>\n",
       "    </tr>\n",
       "  </thead>\n",
       "  <tbody>\n",
       "    <tr>\n",
       "      <th>0</th>\n",
       "      <td>[{'epochtime': 1637686800, 'eevalue': 52, 'ewi...</td>\n",
       "      <td>10117</td>\n",
       "      <td>Berlin</td>\n",
       "      <td>1637686800000</td>\n",
       "      <td>False</td>\n",
       "      <td>False</td>\n",
       "      <td>False</td>\n",
       "      <td>False</td>\n",
       "      <td>False</td>\n",
       "      <td>False</td>\n",
       "      <td>...</td>\n",
       "      <td>44</td>\n",
       "      <td>44</td>\n",
       "      <td>44</td>\n",
       "      <td>44</td>\n",
       "      <td>44</td>\n",
       "      <td>44</td>\n",
       "      <td>44</td>\n",
       "      <td>44</td>\n",
       "      <td>44</td>\n",
       "      <td>44</td>\n",
       "    </tr>\n",
       "  </tbody>\n",
       "</table>\n",
       "<p>1 rows × 1603 columns</p>\n",
       "</div>"
      ],
      "text/plain": [
       "                                            forecast location.zip  \\\n",
       "0  [{'epochtime': 1637686800, 'eevalue': 52, 'ewi...        10117   \n",
       "\n",
       "  location.city  matrix.h_0.timeStamp  matrix.h_0.avg_1  matrix.h_0.avg_2  \\\n",
       "0        Berlin         1637686800000             False             False   \n",
       "\n",
       "   matrix.h_0.avg_3  matrix.h_0.avg_4  matrix.h_0.avg_5  matrix.h_0.avg_6  \\\n",
       "0             False             False             False             False   \n",
       "\n",
       "   ...  matrix.h_39.avg_10  matrix.h_39.avg_9  matrix.h_39.avg_8  \\\n",
       "0  ...                  44                 44                 44   \n",
       "\n",
       "   matrix.h_39.avg_7  matrix.h_39.avg_6  matrix.h_39.avg_5  matrix.h_39.avg_4  \\\n",
       "0                 44                 44                 44                 44   \n",
       "\n",
       "   matrix.h_39.avg_3  matrix.h_39.avg_2  matrix.h_39.avg_1  \n",
       "0                 44                 44                 44  \n",
       "\n",
       "[1 rows x 1603 columns]"
      ]
     },
     "execution_count": 157,
     "metadata": {},
     "output_type": "execute_result"
    }
   ],
   "source": [
    "from pandas.io.json import json_normalize\n",
    "\n",
    "results = res21.json()\n",
    "flattened_data = json_normalize(results)\n",
    "\n",
    "flattened_data"
   ]
  },
  {
   "cell_type": "code",
   "execution_count": 166,
   "id": "580c7464",
   "metadata": {},
   "outputs": [
    {
     "name": "stdout",
     "output_type": "stream",
     "text": [
      "Berlin\n"
     ]
    }
   ],
   "source": [
    "flattened_data = pd.json_normalize(data21)\n",
    "flattened_data\n",
    "print(flattened_data['location.city'][0])"
   ]
  },
  {
   "cell_type": "code",
   "execution_count": null,
   "id": "c9f32f5a",
   "metadata": {},
   "outputs": [],
   "source": []
  }
 ],
 "metadata": {
  "kernelspec": {
   "display_name": "Python 3",
   "language": "python",
   "name": "python3"
  },
  "language_info": {
   "codemirror_mode": {
    "name": "ipython",
    "version": 3
   },
   "file_extension": ".py",
   "mimetype": "text/x-python",
   "name": "python",
   "nbconvert_exporter": "python",
   "pygments_lexer": "ipython3",
   "version": "3.8.8"
  }
 },
 "nbformat": 4,
 "nbformat_minor": 5
}
